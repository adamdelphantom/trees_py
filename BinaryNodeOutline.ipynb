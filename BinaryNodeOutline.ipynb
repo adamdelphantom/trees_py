{
 "cells": [
  {
   "cell_type": "code",
   "execution_count": 49,
   "id": "37e5635c",
   "metadata": {},
   "outputs": [],
   "source": [
    "class BinaryNode:\n",
    "    indent = 2\n",
    "    \n",
    "    def __init__(self, value):\n",
    "        self.value = value\n",
    "        self.left_child = None\n",
    "        self.right_child = None\n",
    "    \n",
    "    def add_right(self, child):\n",
    "        self.right_child = child\n",
    "        \n",
    "    def add_left(self, child):\n",
    "        self.left_child = child\n",
    "        \n",
    "    def get_value(self):\n",
    "        return self.value\n",
    "        \n",
    "    def __str__(node, level = 0):\n",
    "        output = (\" \" * (level * node.indent)) + node.value + \":\" + \"\\n\"\n",
    "        if node.left_child == None and node.right_child == None:\n",
    "            return output\n",
    "        \n",
    "        if node.left_child != None:\n",
    "            output += node.left_child.__str__(level + 1)\n",
    "        else:\n",
    "            output += (\" \" * ((level + 1) * node.indent)) + \"None\" + \"\\n\"\n",
    "        \n",
    "        if node.right_child != None:\n",
    "            output += node.right_child.__str__(level + 1)\n",
    "        else:\n",
    "            output += (\" \" * ((level + 1) * node.indent)) + \"None\" + \"\\n\"\n",
    "            \n",
    "        return output"
   ]
  },
  {
   "cell_type": "code",
   "execution_count": 50,
   "id": "6e4aa4e2",
   "metadata": {},
   "outputs": [],
   "source": [
    "root = BinaryNode(\"Root\")\n",
    "a = BinaryNode(\"A\")\n",
    "b = BinaryNode(\"B\")\n",
    "c = BinaryNode(\"C\")\n",
    "d = BinaryNode(\"D\")\n",
    "e = BinaryNode(\"E\")\n",
    "f = BinaryNode(\"F\")\n",
    "root.add_left(a)\n",
    "root.add_right(b)\n",
    "a.add_left(c)\n",
    "a.add_right(d)\n",
    "b.add_right(e)\n",
    "e.add_left(f)"
   ]
  },
  {
   "cell_type": "code",
   "execution_count": 51,
   "id": "10700f56",
   "metadata": {},
   "outputs": [
    {
     "name": "stdout",
     "output_type": "stream",
     "text": [
      "Root:\n",
      "  A:\n",
      "    C:\n",
      "    D:\n",
      "  B:\n",
      "    None\n",
      "    E:\n",
      "      F:\n",
      "      None\n",
      "\n",
      "A:\n",
      "  C:\n",
      "  D:\n",
      "\n",
      "B:\n",
      "  None\n",
      "  E:\n",
      "    F:\n",
      "    None\n",
      "\n",
      "C:\n",
      "\n",
      "D:\n",
      "\n",
      "E:\n",
      "  F:\n",
      "  None\n",
      "\n",
      "F:\n",
      "\n"
     ]
    }
   ],
   "source": [
    "print(root)\n",
    "print(a)\n",
    "print(b)\n",
    "print(c)\n",
    "print(d)\n",
    "print(e)\n",
    "print(f)"
   ]
  },
  {
   "cell_type": "code",
   "execution_count": null,
   "id": "f742897c",
   "metadata": {},
   "outputs": [],
   "source": []
  }
 ],
 "metadata": {
  "kernelspec": {
   "display_name": "Python 3 (ipykernel)",
   "language": "python",
   "name": "python3"
  },
  "language_info": {
   "codemirror_mode": {
    "name": "ipython",
    "version": 3
   },
   "file_extension": ".py",
   "mimetype": "text/x-python",
   "name": "python",
   "nbconvert_exporter": "python",
   "pygments_lexer": "ipython3",
   "version": "3.9.7"
  }
 },
 "nbformat": 4,
 "nbformat_minor": 5
}
