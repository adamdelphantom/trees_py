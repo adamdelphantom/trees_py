{
 "cells": [
  {
   "cell_type": "code",
   "execution_count": 29,
   "id": "37e5635c",
   "metadata": {},
   "outputs": [],
   "source": [
    "class BinaryNode:\n",
    "    indent = 2\n",
    "    \n",
    "    def __init__(self, value):\n",
    "        self.value = value\n",
    "        self.left_child = None\n",
    "        self.right_child = None\n",
    "    \n",
    "    def add_right(self, child):\n",
    "        self.right_child = child\n",
    "        \n",
    "    def add_left(self, child):\n",
    "        self.left_child = child\n",
    "        \n",
    "    def get_value(self):\n",
    "        return self.value\n",
    "    \n",
    "    def find_node(self, value_to_find):\n",
    "        if self.value == value_to_find:\n",
    "            return self.value\n",
    "        if self.left_child != None:\n",
    "            if self.left_child.find_node(value_to_find) == value_to_find:\n",
    "                return self.left_child.find_node(value_to_find)\n",
    "        if self.right_child != None:    \n",
    "            if self.right_child.find_node(value_to_find) == value_to_find:\n",
    "                return self.right_child.find_node(value_to_find)\n",
    "        \n",
    "        return None\n",
    "        \n",
    "    def __str__(self, level = 0):\n",
    "        output = (\" \" * (level * self.indent)) + self.value + \":\" + \"\\n\"\n",
    "        if self.left_child == None and self.right_child == None:\n",
    "            return output\n",
    "        \n",
    "        if self.left_child != None:\n",
    "            output += self.left_child.__str__(level + 1)\n",
    "        else:\n",
    "            output += (\" \" * ((level + 1) * self.indent)) + \"None\" + \"\\n\"\n",
    "        \n",
    "        if self.right_child != None:\n",
    "            output += self.right_child.__str__(level + 1)\n",
    "        else:\n",
    "            output += (\" \" * ((level + 1) * self.indent)) + \"None\" + \"\\n\"\n",
    "            \n",
    "        return output"
   ]
  },
  {
   "cell_type": "code",
   "execution_count": 30,
   "id": "63d6089b",
   "metadata": {},
   "outputs": [],
   "source": [
    "def find_value(node, value):\n",
    "    if node.find_node(value) == None:\n",
    "        print(\"Value \" + value + \" not found\")\n",
    "    else:\n",
    "        print(\"Found \" + node.find_node(value))"
   ]
  },
  {
   "cell_type": "code",
   "execution_count": 31,
   "id": "2160b39c",
   "metadata": {},
   "outputs": [],
   "source": [
    "root = BinaryNode(\"Root\")\n",
    "a = BinaryNode(\"A\")\n",
    "b = BinaryNode(\"B\")\n",
    "c = BinaryNode(\"C\")\n",
    "d = BinaryNode(\"D\")\n",
    "e = BinaryNode(\"E\")\n",
    "f = BinaryNode(\"F\")\n",
    "root.add_left(a)\n",
    "root.add_right(b)\n",
    "a.add_left(c)\n",
    "a.add_right(d)\n",
    "b.add_right(e)\n",
    "e.add_left(f)"
   ]
  },
  {
   "cell_type": "code",
   "execution_count": 32,
   "id": "9b212916",
   "metadata": {},
   "outputs": [
    {
     "name": "stdout",
     "output_type": "stream",
     "text": [
      "Found Root\n",
      "Found E\n",
      "Found F\n",
      "Value Q not found\n",
      "Found F\n"
     ]
    }
   ],
   "source": [
    "find_value(root, 'Root')\n",
    "find_value(root, 'E')\n",
    "find_value(root, 'F')\n",
    "find_value(root, 'Q')\n",
    "\n",
    "find_value(b, 'F')"
   ]
  },
  {
   "cell_type": "code",
   "execution_count": 33,
   "id": "10700f56",
   "metadata": {},
   "outputs": [
    {
     "name": "stdout",
     "output_type": "stream",
     "text": [
      "Root:\n",
      "  A:\n",
      "    C:\n",
      "    D:\n",
      "  B:\n",
      "    None\n",
      "    E:\n",
      "      F:\n",
      "      None\n",
      "\n",
      "A:\n",
      "  C:\n",
      "  D:\n",
      "\n",
      "B:\n",
      "  None\n",
      "  E:\n",
      "    F:\n",
      "    None\n",
      "\n",
      "C:\n",
      "\n",
      "D:\n",
      "\n",
      "E:\n",
      "  F:\n",
      "  None\n",
      "\n",
      "F:\n",
      "\n"
     ]
    }
   ],
   "source": [
    "print(root)\n",
    "print(a)\n",
    "print(b)\n",
    "print(c)\n",
    "print(d)\n",
    "print(e)\n",
    "print(f)"
   ]
  }
 ],
 "metadata": {
  "kernelspec": {
   "display_name": "Python 3 (ipykernel)",
   "language": "python",
   "name": "python3"
  },
  "language_info": {
   "codemirror_mode": {
    "name": "ipython",
    "version": 3
   },
   "file_extension": ".py",
   "mimetype": "text/x-python",
   "name": "python",
   "nbconvert_exporter": "python",
   "pygments_lexer": "ipython3",
   "version": "3.9.7"
  }
 },
 "nbformat": 4,
 "nbformat_minor": 5
}
