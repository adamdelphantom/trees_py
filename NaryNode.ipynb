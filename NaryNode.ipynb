{
 "cells": [
  {
   "cell_type": "code",
   "execution_count": 28,
   "id": "f557cafe",
   "metadata": {},
   "outputs": [],
   "source": [
    "class NaryNode:\n",
    "    def __init__(self, value):\n",
    "        self.value = value\n",
    "        self.children = []\n",
    "        \n",
    "    def add_child(self, value):\n",
    "        self.children.append(value);\n",
    "    \n",
    "    def get_value(self):\n",
    "        return self.value\n",
    "    \n",
    "    def __str__(self):\n",
    "        output = self.value + \":\"\n",
    "        for i in self.children:\n",
    "            output += \" \" + i\n",
    "        return output"
   ]
  },
  {
   "cell_type": "code",
   "execution_count": 29,
   "id": "1cd2ef49",
   "metadata": {},
   "outputs": [],
   "source": [
    "root = NaryNode(\"Root\")\n",
    "a = NaryNode(\"A\")\n",
    "b = NaryNode(\"B\")\n",
    "c = NaryNode(\"C\")\n",
    "d = NaryNode(\"D\")\n",
    "e = NaryNode(\"E\")\n",
    "f = NaryNode(\"F\")\n",
    "g = NaryNode(\"G\")\n",
    "h = NaryNode(\"H\")\n",
    "i = NaryNode(\"I\")"
   ]
  },
  {
   "cell_type": "code",
   "execution_count": 30,
   "id": "92ce1f30",
   "metadata": {},
   "outputs": [],
   "source": [
    "root.add_child(a.get_value())\n",
    "root.add_child(b.get_value())\n",
    "root.add_child(c.get_value())\n",
    "a.add_child(d.get_value())\n",
    "a.add_child(e.get_value())\n",
    "c.add_child(f.get_value())\n",
    "d.add_child(g.get_value())\n",
    "f.add_child(h.get_value())\n",
    "f.add_child(i.get_value())"
   ]
  },
  {
   "cell_type": "code",
   "execution_count": 31,
   "id": "1833f248",
   "metadata": {},
   "outputs": [
    {
     "name": "stdout",
     "output_type": "stream",
     "text": [
      "Root: A B C\n",
      "A: D E\n",
      "B:\n",
      "C: F\n",
      "D: G\n",
      "E:\n",
      "F: H I\n",
      "G:\n",
      "H:\n",
      "I:\n"
     ]
    }
   ],
   "source": [
    "print(root)\n",
    "print(a)\n",
    "print(b)\n",
    "print(c)\n",
    "print(d)\n",
    "print(e)\n",
    "print(f)\n",
    "print(g)\n",
    "print(h)\n",
    "print(i)"
   ]
  }
 ],
 "metadata": {
  "kernelspec": {
   "display_name": "Python 3 (ipykernel)",
   "language": "python",
   "name": "python3"
  },
  "language_info": {
   "codemirror_mode": {
    "name": "ipython",
    "version": 3
   },
   "file_extension": ".py",
   "mimetype": "text/x-python",
   "name": "python",
   "nbconvert_exporter": "python",
   "pygments_lexer": "ipython3",
   "version": "3.9.7"
  }
 },
 "nbformat": 4,
 "nbformat_minor": 5
}
