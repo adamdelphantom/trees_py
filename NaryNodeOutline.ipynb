{
 "cells": [
  {
   "cell_type": "code",
   "execution_count": 32,
   "id": "f91800fe",
   "metadata": {},
   "outputs": [],
   "source": [
    "class NaryNode:\n",
    "    indent = 2\n",
    "    def __init__(self, value):\n",
    "        self.value = value\n",
    "        self.children = []\n",
    "        \n",
    "    def add_child(self, value):\n",
    "        self.children.append(value);\n",
    "    \n",
    "    def get_value(self):\n",
    "        return self.value\n",
    "    \n",
    "    def get_children(self):\n",
    "        return self.children\n",
    "    \n",
    "    def __str__(self, level = 0):\n",
    "        output = (\" \" * (level * self.indent)) + self.value + \":\" + \"\\n\"\n",
    "        for i in self.children:\n",
    "            output += i.__str__(level + 1)\n",
    "        return output"
   ]
  },
  {
   "cell_type": "code",
   "execution_count": 33,
   "id": "a9987c04",
   "metadata": {},
   "outputs": [],
   "source": [
    "root = NaryNode(\"Root\")\n",
    "a = NaryNode(\"A\")\n",
    "b = NaryNode(\"B\")\n",
    "c = NaryNode(\"C\")\n",
    "d = NaryNode(\"D\")\n",
    "e = NaryNode(\"E\")\n",
    "f = NaryNode(\"F\")\n",
    "g = NaryNode(\"G\")\n",
    "h = NaryNode(\"H\")\n",
    "i = NaryNode(\"I\")"
   ]
  },
  {
   "cell_type": "code",
   "execution_count": 34,
   "id": "56516c8b",
   "metadata": {},
   "outputs": [],
   "source": [
    "root.add_child(a)\n",
    "root.add_child(b)\n",
    "root.add_child(c)\n",
    "a.add_child(d)\n",
    "a.add_child(e)\n",
    "c.add_child(f)\n",
    "d.add_child(g)\n",
    "f.add_child(h)\n",
    "f.add_child(i)"
   ]
  },
  {
   "cell_type": "code",
   "execution_count": 35,
   "id": "b07a3545",
   "metadata": {},
   "outputs": [
    {
     "name": "stdout",
     "output_type": "stream",
     "text": [
      "Root:\n",
      "  A:\n",
      "    D:\n",
      "      G:\n",
      "    E:\n",
      "  B:\n",
      "  C:\n",
      "    F:\n",
      "      H:\n",
      "      I:\n",
      "\n",
      "A:\n",
      "  D:\n",
      "    G:\n",
      "  E:\n",
      "\n",
      "B:\n",
      "\n",
      "C:\n",
      "  F:\n",
      "    H:\n",
      "    I:\n",
      "\n",
      "D:\n",
      "  G:\n",
      "\n",
      "E:\n",
      "\n",
      "F:\n",
      "  H:\n",
      "  I:\n",
      "\n",
      "G:\n",
      "\n",
      "H:\n",
      "\n",
      "I:\n",
      "\n"
     ]
    }
   ],
   "source": [
    "print(root)\n",
    "print(a)\n",
    "print(b)\n",
    "print(c)\n",
    "print(d)\n",
    "print(e)\n",
    "print(f)\n",
    "print(g)\n",
    "print(h)\n",
    "print(i)"
   ]
  },
  {
   "cell_type": "code",
   "execution_count": null,
   "id": "b0cec3de",
   "metadata": {},
   "outputs": [],
   "source": []
  }
 ],
 "metadata": {
  "kernelspec": {
   "display_name": "Python 3 (ipykernel)",
   "language": "python",
   "name": "python3"
  },
  "language_info": {
   "codemirror_mode": {
    "name": "ipython",
    "version": 3
   },
   "file_extension": ".py",
   "mimetype": "text/x-python",
   "name": "python",
   "nbconvert_exporter": "python",
   "pygments_lexer": "ipython3",
   "version": "3.9.7"
  }
 },
 "nbformat": 4,
 "nbformat_minor": 5
}
