{
 "cells": [
  {
   "cell_type": "code",
   "execution_count": 46,
   "id": "f91800fe",
   "metadata": {},
   "outputs": [],
   "source": [
    "class NaryNode:\n",
    "    indent = 2\n",
    "    def __init__(self, value):\n",
    "        self.value = value\n",
    "        self.children = []\n",
    "        \n",
    "    def add_child(self, value):\n",
    "        self.children.append(value);\n",
    "    \n",
    "    def get_value(self):\n",
    "        return self.value\n",
    "    \n",
    "    def get_children(self):\n",
    "        return self.children\n",
    "    \n",
    "    def find_node(self, value_to_find):\n",
    "        if self.value == value_to_find:\n",
    "            return self.value\n",
    "        else:\n",
    "            for i in self.children:\n",
    "                if i.value == value_to_find:\n",
    "                    return i.value\n",
    "                elif i.find_node(value_to_find) == value_to_find:\n",
    "                    return i.find_node(value_to_find)\n",
    "        return None\n",
    "    \n",
    "    def __str__(self, level = 0):\n",
    "        output = (\" \" * (level * self.indent)) + self.value + \":\" + \"\\n\"\n",
    "        for i in self.children:\n",
    "            output += i.__str__(level + 1)\n",
    "        return output"
   ]
  },
  {
   "cell_type": "code",
   "execution_count": 47,
   "id": "a9987c04",
   "metadata": {},
   "outputs": [],
   "source": [
    "root = NaryNode(\"Root\")\n",
    "a = NaryNode(\"A\")\n",
    "b = NaryNode(\"B\")\n",
    "c = NaryNode(\"C\")\n",
    "d = NaryNode(\"D\")\n",
    "e = NaryNode(\"E\")\n",
    "f = NaryNode(\"F\")\n",
    "g = NaryNode(\"G\")\n",
    "h = NaryNode(\"H\")\n",
    "i = NaryNode(\"I\")"
   ]
  },
  {
   "cell_type": "code",
   "execution_count": 48,
   "id": "02713ad5",
   "metadata": {},
   "outputs": [],
   "source": [
    "def find_value(node, value):\n",
    "    if node.find_node(value) == None:\n",
    "        print(\"Value \" + value + \" not found\")\n",
    "    else:\n",
    "        print(\"Found \" + node.find_node(value))"
   ]
  },
  {
   "cell_type": "code",
   "execution_count": 49,
   "id": "56516c8b",
   "metadata": {},
   "outputs": [],
   "source": [
    "root.add_child(a)\n",
    "root.add_child(b)\n",
    "root.add_child(c)\n",
    "a.add_child(d)\n",
    "a.add_child(e)\n",
    "c.add_child(f)\n",
    "d.add_child(g)\n",
    "f.add_child(h)\n",
    "f.add_child(i)"
   ]
  },
  {
   "cell_type": "code",
   "execution_count": 50,
   "id": "f46f74f1",
   "metadata": {},
   "outputs": [
    {
     "name": "stdout",
     "output_type": "stream",
     "text": [
      "Found Root\n",
      "Found E\n",
      "Found F\n",
      "Value Q not found\n",
      "Found F\n"
     ]
    }
   ],
   "source": [
    "# Find some values.\n",
    "find_value(root, 'Root')\n",
    "find_value(root, 'E')\n",
    "find_value(root, 'F')\n",
    "find_value(root, 'Q')\n",
    "\n",
    "# Find F in the C subtree.\n",
    "find_value(c, 'F')"
   ]
  },
  {
   "cell_type": "code",
   "execution_count": 35,
   "id": "b07a3545",
   "metadata": {},
   "outputs": [
    {
     "name": "stdout",
     "output_type": "stream",
     "text": [
      "Root:\n",
      "  A:\n",
      "    D:\n",
      "      G:\n",
      "    E:\n",
      "  B:\n",
      "  C:\n",
      "    F:\n",
      "      H:\n",
      "      I:\n",
      "\n",
      "A:\n",
      "  D:\n",
      "    G:\n",
      "  E:\n",
      "\n",
      "B:\n",
      "\n",
      "C:\n",
      "  F:\n",
      "    H:\n",
      "    I:\n",
      "\n",
      "D:\n",
      "  G:\n",
      "\n",
      "E:\n",
      "\n",
      "F:\n",
      "  H:\n",
      "  I:\n",
      "\n",
      "G:\n",
      "\n",
      "H:\n",
      "\n",
      "I:\n",
      "\n"
     ]
    }
   ],
   "source": [
    "print(root)\n",
    "print(a)\n",
    "print(b)\n",
    "print(c)\n",
    "print(d)\n",
    "print(e)\n",
    "print(f)\n",
    "print(g)\n",
    "print(h)\n",
    "print(i)"
   ]
  },
  {
   "cell_type": "code",
   "execution_count": null,
   "id": "b0cec3de",
   "metadata": {},
   "outputs": [],
   "source": []
  }
 ],
 "metadata": {
  "kernelspec": {
   "display_name": "Python 3 (ipykernel)",
   "language": "python",
   "name": "python3"
  },
  "language_info": {
   "codemirror_mode": {
    "name": "ipython",
    "version": 3
   },
   "file_extension": ".py",
   "mimetype": "text/x-python",
   "name": "python",
   "nbconvert_exporter": "python",
   "pygments_lexer": "ipython3",
   "version": "3.9.7"
  }
 },
 "nbformat": 4,
 "nbformat_minor": 5
}
