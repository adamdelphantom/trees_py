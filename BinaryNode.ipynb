{
 "cells": [
  {
   "cell_type": "code",
   "execution_count": 8,
   "id": "37e5635c",
   "metadata": {},
   "outputs": [],
   "source": [
    "class BinaryNode:\n",
    "    def __init__(self, value):\n",
    "        self.value = value\n",
    "        self.left_child = None\n",
    "        self.right_child = None\n",
    "    \n",
    "    def add_right(self, value):\n",
    "        self.right_child = value\n",
    "        \n",
    "    def add_left(self, value):\n",
    "        self.left_child = value\n",
    "        \n",
    "    def get_right_child(self):\n",
    "        return self.right_child;\n",
    "        \n",
    "    def get_left_child(self):\n",
    "        return self.left_child;\n",
    "        \n",
    "    def get_value(self):\n",
    "        return self.value\n",
    "        \n",
    "    def __str__(self):\n",
    "        return str(self.value) + \": \" + str(self.left_child) + \" \" + str(self.right_child)"
   ]
  },
  {
   "cell_type": "code",
   "execution_count": 9,
   "id": "6e4aa4e2",
   "metadata": {},
   "outputs": [],
   "source": [
    "root = BinaryNode(\"Root\")\n",
    "a = BinaryNode(\"A\")\n",
    "b = BinaryNode(\"B\")\n",
    "c = BinaryNode(\"C\")\n",
    "d = BinaryNode(\"D\")\n",
    "e = BinaryNode(\"E\")\n",
    "f = BinaryNode(\"F\")\n",
    "root.add_left(a.get_value())\n",
    "root.add_right(b.get_value())\n",
    "a.add_left(c.get_value())\n",
    "a.add_right(d.get_value())\n",
    "b.add_right(e.get_value())\n",
    "e.add_left(f.get_value())"
   ]
  },
  {
   "cell_type": "code",
   "execution_count": 10,
   "id": "10700f56",
   "metadata": {},
   "outputs": [
    {
     "name": "stdout",
     "output_type": "stream",
     "text": [
      "Root: A B\n",
      "A: C D\n",
      "B: None E\n",
      "C: None None\n",
      "D: None None\n",
      "E: F None\n",
      "F: None None\n"
     ]
    }
   ],
   "source": [
    "print(root)\n",
    "print(a)\n",
    "print(b)\n",
    "print(c)\n",
    "print(d)\n",
    "print(e)\n",
    "print(f)"
   ]
  },
  {
   "cell_type": "code",
   "execution_count": null,
   "id": "f742897c",
   "metadata": {},
   "outputs": [],
   "source": []
  }
 ],
 "metadata": {
  "kernelspec": {
   "display_name": "Python 3 (ipykernel)",
   "language": "python",
   "name": "python3"
  },
  "language_info": {
   "codemirror_mode": {
    "name": "ipython",
    "version": 3
   },
   "file_extension": ".py",
   "mimetype": "text/x-python",
   "name": "python",
   "nbconvert_exporter": "python",
   "pygments_lexer": "ipython3",
   "version": "3.9.7"
  }
 },
 "nbformat": 4,
 "nbformat_minor": 5
}
